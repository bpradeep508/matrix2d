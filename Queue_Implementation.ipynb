{
  "nbformat": 4,
  "nbformat_minor": 0,
  "metadata": {
    "colab": {
      "name": "Queue Implementation.ipynb",
      "provenance": [],
      "include_colab_link": true
    },
    "kernelspec": {
      "name": "python3",
      "display_name": "Python 3"
    },
    "language_info": {
      "name": "python"
    }
  },
  "cells": [
    {
      "cell_type": "markdown",
      "metadata": {
        "id": "view-in-github",
        "colab_type": "text"
      },
      "source": [
        "<a href=\"https://colab.research.google.com/github/bpradeep508/matrix2d/blob/master/Queue_Implementation.ipynb\" target=\"_parent\"><img src=\"https://colab.research.google.com/assets/colab-badge.svg\" alt=\"Open In Colab\"/></a>"
      ]
    },
    {
      "cell_type": "markdown",
      "source": [
        "**Insertion of an element inside queue**"
      ],
      "metadata": {
        "id": "Kte6f71vLHTG"
      }
    },
    {
      "cell_type": "code",
      "execution_count": null,
      "metadata": {
        "id": "vgmmkT47KaP5"
      },
      "outputs": [],
      "source": [
        "reliance_stock_price = []\n",
        "reliance_stock_price.insert(0, 132.23)\n",
        "reliance_stock_price.insert(0, 102.23)\n",
        "reliance_stock_price.insert(0, 92.23)"
      ]
    },
    {
      "cell_type": "code",
      "source": [
        "reliance_stock_price"
      ],
      "metadata": {
        "colab": {
          "base_uri": "https://localhost:8080/"
        },
        "id": "ui_fRJZPK16b",
        "outputId": "412e72d8-3146-4acd-c753-e2da0c0cd382"
      },
      "execution_count": null,
      "outputs": [
        {
          "output_type": "execute_result",
          "data": {
            "text/plain": [
              "[92.23, 102.23, 132.23]"
            ]
          },
          "metadata": {},
          "execution_count": 2
        }
      ]
    },
    {
      "cell_type": "markdown",
      "source": [
        "**Deletion or popping or dequeue of an element inside queue**"
      ],
      "metadata": {
        "id": "hpbPryWdLNom"
      }
    },
    {
      "cell_type": "code",
      "source": [
        "reliance_stock_price.pop()"
      ],
      "metadata": {
        "colab": {
          "base_uri": "https://localhost:8080/"
        },
        "id": "ni4cGihfK3uJ",
        "outputId": "ad9b409d-a679-4d1c-ffac-2d955bb8c2bb"
      },
      "execution_count": null,
      "outputs": [
        {
          "output_type": "execute_result",
          "data": {
            "text/plain": [
              "132.23"
            ]
          },
          "metadata": {},
          "execution_count": 3
        }
      ]
    },
    {
      "cell_type": "markdown",
      "source": [
        "Implementation of queue data structure using collections.deque()"
      ],
      "metadata": {
        "id": "Mq_hmPPBL35P"
      }
    },
    {
      "cell_type": "code",
      "source": [
        "from collections import deque\n",
        "queue = deque()"
      ],
      "metadata": {
        "id": "vAKx_kC-LBRJ"
      },
      "execution_count": null,
      "outputs": []
    },
    {
      "cell_type": "code",
      "source": [
        "queue.appendleft(10)  ## first in \n",
        "queue.appendleft(16)\n",
        "queue.appendleft(21)\n",
        "queue.appendleft(26)\n",
        "queue.appendleft(33)"
      ],
      "metadata": {
        "id": "aK9inEPDMC1a"
      },
      "execution_count": null,
      "outputs": []
    },
    {
      "cell_type": "code",
      "source": [
        "queue"
      ],
      "metadata": {
        "colab": {
          "base_uri": "https://localhost:8080/"
        },
        "id": "6gAjbBzmMXu6",
        "outputId": "a55725cb-cf06-4908-a872-99a9565d4c3d"
      },
      "execution_count": null,
      "outputs": [
        {
          "output_type": "execute_result",
          "data": {
            "text/plain": [
              "deque([33, 26, 21, 16, 10])"
            ]
          },
          "metadata": {},
          "execution_count": 6
        }
      ]
    },
    {
      "cell_type": "code",
      "source": [
        "queue.pop() ## first out"
      ],
      "metadata": {
        "colab": {
          "base_uri": "https://localhost:8080/"
        },
        "id": "KjMDQl1AMYqw",
        "outputId": "ec548da5-a9dc-4aae-dace-39c46d955c25"
      },
      "execution_count": null,
      "outputs": [
        {
          "output_type": "execute_result",
          "data": {
            "text/plain": [
              "10"
            ]
          },
          "metadata": {},
          "execution_count": 7
        }
      ]
    },
    {
      "cell_type": "code",
      "source": [
        "queue_append = deque()"
      ],
      "metadata": {
        "id": "54cK4AC8M3JA"
      },
      "execution_count": null,
      "outputs": []
    },
    {
      "cell_type": "code",
      "source": [
        "queue_append.append(10) ## first in\n",
        "queue_append.append(16)\n",
        "queue_append.append(21)\n",
        "queue_append.append(26)\n",
        "queue_append.append(33)"
      ],
      "metadata": {
        "id": "w0eDgg3LNEFw"
      },
      "execution_count": null,
      "outputs": []
    },
    {
      "cell_type": "code",
      "source": [
        "queue_append"
      ],
      "metadata": {
        "colab": {
          "base_uri": "https://localhost:8080/"
        },
        "id": "lKDolvsSNMCA",
        "outputId": "7c82241a-a434-41ab-8113-7a63058934f6"
      },
      "execution_count": null,
      "outputs": [
        {
          "output_type": "execute_result",
          "data": {
            "text/plain": [
              "deque([10, 16, 21, 26, 33])"
            ]
          },
          "metadata": {},
          "execution_count": 12
        }
      ]
    },
    {
      "cell_type": "code",
      "source": [
        "queue_append.popleft() ## first out"
      ],
      "metadata": {
        "colab": {
          "base_uri": "https://localhost:8080/"
        },
        "id": "9rI8IviYNNQQ",
        "outputId": "e486865d-bff3-4462-b57a-caf139dcc3b0"
      },
      "execution_count": null,
      "outputs": [
        {
          "output_type": "execute_result",
          "data": {
            "text/plain": [
              "10"
            ]
          },
          "metadata": {},
          "execution_count": 13
        }
      ]
    },
    {
      "cell_type": "markdown",
      "source": [
        "Conclusion: In order to implement queue in Python, you can either go for appendleft and pop as a pair(FIFO), otherwise append and popleft as a pair(FIFO)."
      ],
      "metadata": {
        "id": "rtuSNgMUNaf3"
      }
    },
    {
      "cell_type": "markdown",
      "source": [
        "Implement queue in a way that it always executes a concept of FIFO(First In First Out)."
      ],
      "metadata": {
        "id": "C0Q9T-LOPlxA"
      }
    },
    {
      "cell_type": "code",
      "source": [
        "from collections import deque\n",
        "class Queue:\n",
        "  def __init__(self):\n",
        "    self.buffer = deque()\n",
        "  \n",
        "  def enqueue(self, value):\n",
        "    self.buffer.appendleft(value)\n",
        "\n",
        "  def dequeue(self):\n",
        "    return self.buffer.pop()"
      ],
      "metadata": {
        "id": "Ah5hD6Z2NUyI"
      },
      "execution_count": null,
      "outputs": []
    },
    {
      "cell_type": "code",
      "source": [
        "reliance_stock_price = Queue()\n",
        "\n",
        "reliance_stock_price.enqueue({'company':'Reliance',\n",
        "                              'timestamp':'14-03-2022, 10:09AM',\n",
        "                              'price':132.9})\n",
        "\n",
        "reliance_stock_price.enqueue({'company':'Reliance',\n",
        "                              'timestamp':'14-03-2022, 11:09AM',\n",
        "                              'price':122.9})\n",
        "reliance_stock_price.enqueue({'company':'Reliance',\n",
        "                              'timestamp':'14-03-2022, 12:09PM',\n",
        "                              'price':102.9})\n",
        "reliance_stock_price.enqueue({'company':'Reliance',\n",
        "                              'timestamp':'14-03-2022, 1:09PM',\n",
        "                              'price':100.9})"
      ],
      "metadata": {
        "id": "Xkjj1aY6Ogea"
      },
      "execution_count": null,
      "outputs": []
    },
    {
      "cell_type": "code",
      "source": [
        "reliance_stock_price.buffer"
      ],
      "metadata": {
        "colab": {
          "base_uri": "https://localhost:8080/"
        },
        "id": "M4GrA6axPG5a",
        "outputId": "86180d83-d35e-40a1-dbc8-bae205ebe96b"
      },
      "execution_count": null,
      "outputs": [
        {
          "output_type": "execute_result",
          "data": {
            "text/plain": [
              "deque([{'company': 'Reliance',\n",
              "        'price': 100.9,\n",
              "        'timestamp': '14-03-2022, 1:09PM'},\n",
              "       {'company': 'Reliance',\n",
              "        'price': 102.9,\n",
              "        'timestamp': '14-03-2022, 12:09PM'},\n",
              "       {'company': 'Reliance',\n",
              "        'price': 122.9,\n",
              "        'timestamp': '14-03-2022, 11:09AM'},\n",
              "       {'company': 'Reliance',\n",
              "        'price': 132.9,\n",
              "        'timestamp': '14-03-2022, 10:09AM'}])"
            ]
          },
          "metadata": {},
          "execution_count": 17
        }
      ]
    },
    {
      "cell_type": "code",
      "source": [
        "reliance_stock_price.dequeue()"
      ],
      "metadata": {
        "colab": {
          "base_uri": "https://localhost:8080/"
        },
        "id": "hF1DVh7iPRuh",
        "outputId": "340bdc1f-45a9-4457-897c-eadce7ba8cd4"
      },
      "execution_count": null,
      "outputs": [
        {
          "output_type": "execute_result",
          "data": {
            "text/plain": [
              "{'company': 'Reliance', 'price': 132.9, 'timestamp': '14-03-2022, 10:09AM'}"
            ]
          },
          "metadata": {},
          "execution_count": 19
        }
      ]
    },
    {
      "cell_type": "code",
      "source": [
        "reliance_stock_price.buffer"
      ],
      "metadata": {
        "colab": {
          "base_uri": "https://localhost:8080/"
        },
        "id": "F938cDSPPXuR",
        "outputId": "f8824d08-6d20-44c5-95b0-843f758ceb7b"
      },
      "execution_count": null,
      "outputs": [
        {
          "output_type": "execute_result",
          "data": {
            "text/plain": [
              "deque([{'company': 'Reliance',\n",
              "        'price': 100.9,\n",
              "        'timestamp': '14-03-2022, 1:09PM'},\n",
              "       {'company': 'Reliance',\n",
              "        'price': 102.9,\n",
              "        'timestamp': '14-03-2022, 12:09PM'},\n",
              "       {'company': 'Reliance',\n",
              "        'price': 122.9,\n",
              "        'timestamp': '14-03-2022, 11:09AM'}])"
            ]
          },
          "metadata": {},
          "execution_count": 20
        }
      ]
    }
  ]
}